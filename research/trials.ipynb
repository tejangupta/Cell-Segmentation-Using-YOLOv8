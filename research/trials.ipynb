{
 "cells": [
  {
   "cell_type": "code",
   "execution_count": 1,
   "metadata": {
    "ExecuteTime": {
     "end_time": "2023-09-01T18:42:59.829236500Z",
     "start_time": "2023-09-01T18:42:59.322230300Z"
    }
   },
   "outputs": [],
   "source": [
    "import gdown"
   ]
  },
  {
   "cell_type": "code",
   "execution_count": 2,
   "metadata": {
    "ExecuteTime": {
     "end_time": "2023-09-01T18:42:59.865237700Z",
     "start_time": "2023-09-01T18:42:59.839237200Z"
    }
   },
   "outputs": [],
   "source": [
    "import os"
   ]
  },
  {
   "cell_type": "code",
   "execution_count": 3,
   "metadata": {
    "ExecuteTime": {
     "end_time": "2023-09-01T18:42:59.915231700Z",
     "start_time": "2023-09-01T18:42:59.865237700Z"
    }
   },
   "outputs": [],
   "source": [
    "os.chdir(\"../\")"
   ]
  },
  {
   "cell_type": "code",
   "execution_count": 4,
   "metadata": {
    "ExecuteTime": {
     "end_time": "2023-09-01T18:42:59.935231400Z",
     "start_time": "2023-09-01T18:42:59.897234500Z"
    }
   },
   "outputs": [
    {
     "data": {
      "text/plain": "'D:\\\\Placements\\\\Final Resources to crack interviews\\\\Cell-Segmentation-Using-YOLOv8'"
     },
     "execution_count": 4,
     "metadata": {},
     "output_type": "execute_result"
    }
   ],
   "source": [
    "%pwd"
   ]
  },
  {
   "cell_type": "code",
   "execution_count": 5,
   "metadata": {
    "ExecuteTime": {
     "end_time": "2023-09-01T18:43:39.714417800Z",
     "start_time": "2023-09-01T18:43:39.668414500Z"
    }
   },
   "outputs": [],
   "source": [
    "url = \"https://drive.google.com/file/d/12I9IwpHs0OQnDD9-8bDEXuxBCrQTy3Hg/view?usp=sharing\""
   ]
  },
  {
   "cell_type": "code",
   "execution_count": 6,
   "metadata": {
    "ExecuteTime": {
     "end_time": "2023-09-01T18:43:41.466420800Z",
     "start_time": "2023-09-01T18:43:41.368417300Z"
    }
   },
   "outputs": [
    {
     "data": {
      "text/plain": "'12I9IwpHs0OQnDD9-8bDEXuxBCrQTy3Hg'"
     },
     "execution_count": 6,
     "metadata": {},
     "output_type": "execute_result"
    }
   ],
   "source": [
    "file_id = url.split(\"/\")[-2]\n",
    "file_id"
   ]
  },
  {
   "cell_type": "code",
   "execution_count": 7,
   "metadata": {
    "ExecuteTime": {
     "end_time": "2023-09-01T18:52:05.493527900Z",
     "start_time": "2023-09-01T18:52:01.163684700Z"
    }
   },
   "outputs": [
    {
     "name": "stderr",
     "output_type": "stream",
     "text": [
      "Downloading...\n",
      "From: https://drive.google.com/uc?/export=download&id=12I9IwpHs0OQnDD9-8bDEXuxBCrQTy3Hg\n",
      "To: D:\\Placements\\Final Resources to crack interviews\\Cell-Segmentation-Using-YOLOv8\\data\\cell_data.zip\n",
      "100%|██████████| 175k/175k [00:00<00:00, 3.85MB/s]\n"
     ]
    },
    {
     "data": {
      "text/plain": "'data/cell_data.zip'"
     },
     "execution_count": 7,
     "metadata": {},
     "output_type": "execute_result"
    }
   ],
   "source": [
    "prefix = 'https://drive.google.com/uc?/export=download&id='\n",
    "gdown.download(prefix+file_id, \"data/cell_data.zip\")"
   ]
  },
  {
   "cell_type": "code",
   "execution_count": 8,
   "metadata": {
    "ExecuteTime": {
     "end_time": "2023-09-01T18:52:42.203427800Z",
     "start_time": "2023-09-01T18:52:42.180425900Z"
    }
   },
   "outputs": [
    {
     "data": {
      "text/plain": "'D:\\\\Placements\\\\Final Resources to crack interviews\\\\Cell-Segmentation-Using-YOLOv8'"
     },
     "execution_count": 8,
     "metadata": {},
     "output_type": "execute_result"
    }
   ],
   "source": [
    "%pwd"
   ]
  },
  {
   "cell_type": "code",
   "execution_count": null,
   "metadata": {},
   "outputs": [],
   "source": []
  }
 ],
 "metadata": {
  "kernelspec": {
   "display_name": "waste",
   "language": "python",
   "name": "python3"
  },
  "language_info": {
   "codemirror_mode": {
    "name": "ipython",
    "version": 3
   },
   "file_extension": ".py",
   "mimetype": "text/x-python",
   "name": "python",
   "nbconvert_exporter": "python",
   "pygments_lexer": "ipython3",
   "version": "3.9.12"
  },
  "orig_nbformat": 4
 },
 "nbformat": 4,
 "nbformat_minor": 2
}
